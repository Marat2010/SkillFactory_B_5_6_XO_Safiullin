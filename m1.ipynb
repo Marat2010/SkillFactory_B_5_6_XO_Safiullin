{
 "cells": [
  {
   "cell_type": "code",
   "execution_count": null,
   "id": "f9279ea2",
   "metadata": {},
   "outputs": [],
   "source": []
  },
  {
   "cell_type": "code",
   "execution_count": null,
   "id": "eb0d663f",
   "metadata": {},
   "outputs": [],
   "source": [
    "# Начальная\n",
    "\n",
    "def show_fields(f, free_cells):\n",
    "    print(' ↓x\\y→', end=' ')\n",
    "    print('1' + ' ' * 3 + '2' + ' ' * 3 + '3')\n",
    "\n",
    "    if f[0] == 'X':\n",
    "        x = f'\\033[1m\\033[34m{f[0]}\\033[0m'\n",
    "    elif f[0] == 'O':\n",
    "        x = f'\\033[1m\\033[36m{f[0]}\\033[0m'\n",
    "        x = '\\u2087'\n",
    "        x = 7\n",
    "        x = f'\\033[2m\\033[3m\\033[37m{x}\\033[0m'\n",
    "\n",
    "    top_1 = (' ' * 5 + '┌───┬───┬───┐\\n' + '  1  ')\n",
    "    middle_1 = ('│' + f' {x} ') * 3\n",
    "    bottom_1 = ('│\\n' + ' ' * 5 + '├───┼───┼───┤\\n' + '  2  ')\n",
    "\n",
    "    middle_2 = ('│' + f' {x} ') * 3\n",
    "    bottom_2 = ('│\\n' + ' ' * 5 + '├───┼───┼───┤\\n' + '  3  ')\n",
    "\n",
    "    middle_3 = ('│' + f' {x} ') * 3\n",
    "    bottom_3 = ('│\\n' + ' ' * 5 + '└───┴───┴───┘\\n')\n",
    "\n",
    "    lst = [top_1, middle_1, bottom_1, middle_2, bottom_2, middle_3, bottom_3]\n",
    "    for i in lst:\n",
    "        if i == middle_1:\n",
    "            x = 'W'\n",
    "        elif i == middle_2:\n",
    "            x = 'Z'\n",
    "        print(i, end='')\n",
    "    # return True"
   ]
  },
  {
   "cell_type": "code",
   "execution_count": null,
   "id": "13a2f503",
   "metadata": {},
   "outputs": [],
   "source": []
  },
  {
   "cell_type": "code",
   "execution_count": null,
   "id": "7059a023",
   "metadata": {},
   "outputs": [],
   "source": [
    "def "
   ]
  },
  {
   "cell_type": "code",
   "execution_count": 114,
   "id": "cac85409",
   "metadata": {},
   "outputs": [],
   "source": [
    "def show_fields(f, free_cells):\n",
    "    print(' ↓x\\y→', end=' ')\n",
    "    print('1' + ' ' * 3 + '2' + ' ' * 3 + '3')\n",
    "\n",
    "    if f[0] == 'X':\n",
    "        x = f'\\033[1m\\033[34m{f[0]}\\033[0m'\n",
    "    elif f[0] == 'O':\n",
    "        x = f'\\033[1m\\033[36m{f[0]}\\033[0m'\n",
    "    else:\n",
    "        x = '\\u2087'\n",
    "        x = 7\n",
    "        x = f'\\033[2m\\033[3m\\033[37m{x}\\033[0m'\n",
    "\n",
    "    top_1 = (' ' * 5 + '┌───┬───┬───┐\\n' + '  1  ')\n",
    "    middle_1 = ('│' + ' {} ') * 3\n",
    "    bottom_1 = ('│\\n' + ' ' * 5 + '├───┼───┼───┤\\n' + '  2  ')\n",
    "\n",
    "    middle_2 = ('│' + ' {} ') * 3\n",
    "    bottom_2 = ('│\\n' + ' ' * 5 + '├───┼───┼───┤\\n' + '  3  ')\n",
    "\n",
    "    middle_3 = ('│' + ' {} ') * 3\n",
    "    bottom_3 = ('│\\n' + ' ' * 5 + '└───┴───┴───┘\\n')\n",
    "\n",
    "    lst = [top_1, middle_1, bottom_1, middle_2, bottom_2, middle_3, bottom_3]\n",
    "\n",
    "    for i, s in enumerate(lst):\n",
    "        if i % 2:\n",
    "            s = s.format(*free_cells[i-1:i+3])\n",
    "#         if i == middle_1:\n",
    "#             x = 'W'\n",
    "#         elif i == middle_2:\n",
    "#             x = 'Z'\n",
    "#         print(i, end='')\n",
    "        print(s, end='')\n",
    "    # return True"
   ]
  },
  {
   "cell_type": "code",
   "execution_count": 115,
   "id": "c097b6eb",
   "metadata": {},
   "outputs": [
    {
     "name": "stdout",
     "output_type": "stream",
     "text": [
      " ↓x\\y→ 1   2   3\n",
      "     ┌───┬───┬───┐\n",
      "  1  │ 1 │ 2 │ 3 │\n",
      "     ├───┼───┼───┤\n",
      "  2  │ 3 │ 4 │ 5 │\n",
      "     ├───┼───┼───┤\n",
      "  3  │ 5 │ 6 │ 7 │\n",
      "     └───┴───┴───┘\n"
     ]
    }
   ],
   "source": [
    "field = ('O', 5)\n",
    "free_cells = [1,2,3,4,5,6,7,8,9]\n",
    "show_fields(field, free_cells)"
   ]
  },
  {
   "cell_type": "code",
   "execution_count": null,
   "id": "05081f90",
   "metadata": {},
   "outputs": [],
   "source": []
  },
  {
   "cell_type": "code",
   "execution_count": 110,
   "id": "d818f54d",
   "metadata": {},
   "outputs": [
    {
     "name": "stdout",
     "output_type": "stream",
     "text": [
      "['X', 'X', 3, 4, 'O', 6, 'X', 'O', 9]\n",
      "True True [True, True, True, True]\n",
      "5 False\n"
     ]
    }
   ],
   "source": [
    "\n",
    "free_cells = [\"X\",\"X\",3,4,\"O\",6,\"X\",\"O\",9]\n",
    "# free_cells = [\"X\",\"X\",'O','X',\"O\",'O',\"X\",\"O\",9]\n",
    "print(free_cells)\n",
    "# for i in free_cells:\n",
    "#     any(i in range(1,10))\n",
    "res1 = any(i in range(1,10) for i in free_cells)\n",
    "res2 = any(True for i in free_cells if i in range(1,10))\n",
    "res3 = list((True for i in free_cells if i in range(1,10)))\n",
    "print(res1, res2, res3)\n",
    "res4 = free_cells.count('X') + free_cells.count('O')\n",
    "print(res4, res4 == 9)\n",
    "\n",
    "# x = any(True for i, n in enumerate(lst) if n == 100)"
   ]
  },
  {
   "cell_type": "code",
   "execution_count": 104,
   "id": "4e9f8c9d",
   "metadata": {},
   "outputs": [
    {
     "data": {
      "text/plain": [
       "[True, True]"
      ]
     },
     "execution_count": 104,
     "metadata": {},
     "output_type": "execute_result"
    }
   ],
   "source": [
    "free_cells = [\"X\",\"X\",'O','X',\"O\",6 ,\"X\",\"O\",9]\n",
    "list((True for i in free_cells if i in range(1,10)))\n"
   ]
  },
  {
   "cell_type": "code",
   "execution_count": null,
   "id": "4c336606",
   "metadata": {},
   "outputs": [],
   "source": []
  },
  {
   "cell_type": "code",
   "execution_count": 88,
   "id": "f4221b11",
   "metadata": {},
   "outputs": [
    {
     "name": "stdout",
     "output_type": "stream",
     "text": [
      "│ {} │ {} │ {} \n",
      "1 2 3\n",
      "│ 1 │ 2 │ 3 \n",
      "│ 4 │ 5 │ 6 \n",
      "│ 7 │ 8 │ 9 \n"
     ]
    }
   ],
   "source": [
    "x = 'X'\n",
    "field = ('O', 5)\n",
    "free_cell = [1,2,3,4,5,6,7,8,9]\n",
    "\n",
    "middle_1 = ('│' + ' {} ') * 3\n",
    "print(middle_1)\n",
    "print(*free_cell[:3])\n",
    "for i in range(3):\n",
    "    print(middle_1.format(*free_cell[i*3:i*3+3]))\n",
    "#     print(i)"
   ]
  },
  {
   "cell_type": "code",
   "execution_count": 139,
   "id": "eb23f9d4",
   "metadata": {},
   "outputs": [],
   "source": [
    "free_cells = [1,2,3,4,5,6,7,8,9]\n",
    "\n",
    "def gen_row_cells(free_cells):  # генерация ячеек строки\n",
    "    cells = free_cells.copy()\n",
    "    while True:\n",
    "        row = cells[:3]\n",
    "        yield row\n",
    "        \n",
    "        cells = cells[3:]\n",
    "        if not len(cells):\n",
    "            break\n",
    "# for  i in gen_row_cells(free_cell):\n",
    "#     print(i)"
   ]
  },
  {
   "cell_type": "code",
   "execution_count": 141,
   "id": "66b8743a",
   "metadata": {},
   "outputs": [
    {
     "name": "stdout",
     "output_type": "stream",
     "text": [
      "[1, 2, 3]\n",
      "[4, 5, 6]\n"
     ]
    }
   ],
   "source": [
    "gen = iter(gen_row_cells(free_cells))\n",
    "\n",
    "print(next(gen))\n",
    "print(next(gen))"
   ]
  },
  {
   "cell_type": "code",
   "execution_count": 134,
   "id": "86f29563",
   "metadata": {},
   "outputs": [
    {
     "data": {
      "text/plain": [
       "[1, 2, 3]"
      ]
     },
     "execution_count": 134,
     "metadata": {},
     "output_type": "execute_result"
    }
   ],
   "source": []
  },
  {
   "cell_type": "code",
   "execution_count": 121,
   "id": "a22e635e",
   "metadata": {},
   "outputs": [
    {
     "name": "stdout",
     "output_type": "stream",
     "text": [
      "1 2 3 === [4, 5, 6, 7, 8, 9]\n"
     ]
    }
   ],
   "source": [
    "free_cell = [1,2,3,4,5,6,7,8,9]\n",
    "cells = free_cells.copy()\n",
    "row = cells[:3]\n",
    "cells = cells[3:]\n",
    "print(*row, '===', cells)"
   ]
  },
  {
   "cell_type": "code",
   "execution_count": null,
   "id": "17cb0572",
   "metadata": {},
   "outputs": [],
   "source": []
  },
  {
   "cell_type": "code",
   "execution_count": null,
   "id": "e1cdc874",
   "metadata": {},
   "outputs": [],
   "source": []
  },
  {
   "cell_type": "code",
   "execution_count": null,
   "id": "c1f2e3a4",
   "metadata": {},
   "outputs": [],
   "source": []
  },
  {
   "cell_type": "code",
   "execution_count": 142,
   "id": "425f87f0",
   "metadata": {},
   "outputs": [
    {
     "name": "stdout",
     "output_type": "stream",
     "text": [
      " ↓x\\y→ 1   2   3\n",
      "     ┌───┬───┬───┐\n",
      "  1  │ 1 │ 2 │ 3 │\n",
      "     ├───┼───┼───┤\n",
      "  2  │ 3 │ 4 │ 5 │\n",
      "     ├───┼───┼───┤\n",
      "  3  │ 5 │ 6 │ 7 │\n",
      "     └───┴───┴───┘\n"
     ]
    }
   ],
   "source": [
    "field = ('X', 5)\n",
    "free_cell = [1,2,3,4,5,6,7,8,9]\n",
    "show_fields(field, free_cell)"
   ]
  },
  {
   "cell_type": "code",
   "execution_count": null,
   "id": "46297f72",
   "metadata": {},
   "outputs": [],
   "source": []
  },
  {
   "cell_type": "code",
   "execution_count": 76,
   "id": "a655c698",
   "metadata": {},
   "outputs": [
    {
     "name": "stdout",
     "output_type": "stream",
     "text": [
      "\tХодит: X\n",
      "\n",
      "Введите номер клетки 1 2 3 ee\n",
      "['1', '2', '3', 'ee'] === [True, True, True, False] --- False\n"
     ]
    }
   ],
   "source": [
    "\n",
    "while True:\n",
    "    place = input(f\"\\tХодит: X\\n\\nВведите номер клетки \").split()\n",
    "    \n",
    "#     res = list(place.append(False) for i in place if not i.isdigit())\n",
    "#     resany = any(place.append(False) for i in place if not i.isdigit())\n",
    "    res = list(i.isdigit() for i in place)\n",
    "    resany = all(i.isdigit() for i in place)\n",
    "#     for i in place:\n",
    "#         if not  i.isdigit(): \n",
    "#             place.append(False)\n",
    "#         print(\"Введите число\\n\")\n",
    "    print(f\"{place} === {res} --- {resany}\")\n",
    "    break"
   ]
  },
  {
   "cell_type": "code",
   "execution_count": null,
   "id": "124b250f",
   "metadata": {},
   "outputs": [],
   "source": []
  },
  {
   "cell_type": "code",
   "execution_count": null,
   "id": "b9378de7",
   "metadata": {},
   "outputs": [],
   "source": []
  },
  {
   "cell_type": "code",
   "execution_count": null,
   "id": "18cbb3d4",
   "metadata": {},
   "outputs": [],
   "source": []
  },
  {
   "cell_type": "markdown",
   "id": "aaa6bb8f",
   "metadata": {},
   "source": [
    "### Из основной программы"
   ]
  },
  {
   "cell_type": "code",
   "execution_count": 144,
   "id": "7fd5f9da",
   "metadata": {},
   "outputs": [],
   "source": [
    "def gen_row_cells(free_cells):  # генерация 3-x ячеек строки\n",
    "    cells = free_cells.copy()\n",
    "    while True:\n",
    "        row = cells[:3]\n",
    "        yield row\n",
    "        cells = cells[3:]\n",
    "        if not len(cells):\n",
    "            break"
   ]
  },
  {
   "cell_type": "code",
   "execution_count": 214,
   "id": "32b52e5d",
   "metadata": {},
   "outputs": [],
   "source": [
    "def color_free_cells(func):\n",
    "    def wrapeper(*args, **kwargs):\n",
    "        cells = args[1]\n",
    "        new_cells = []\n",
    "        for i in cells:\n",
    "            if i  == 'X': \n",
    "                i = f'\\033[1m\\033[34m{i}\\033[0m'\n",
    "            elif i == 'O':\n",
    "                i = f'\\033[1m\\033[36m{i}\\033[0m'\n",
    "            else:\n",
    "                i = f'\\033[2m\\033[3m\\033[37m{i}\\033[0m'\n",
    "            new_cells.append(i) \n",
    "            \n",
    "        args = args[0], new_cells\n",
    "\n",
    "        return func(*args, **kwargs)\n",
    "    return wrapeper\n",
    "\n",
    "#         print(f'Начало args_user={args[0]}. args_cell: {args[1]}')\n",
    "#             func(*args, **kwargs)          \n",
    "#             print(f'Посчитали и добавили в словарь: {d}') \n",
    "# @color_free_cells\n",
    "# def show_fields(user, free_cells):\n",
    "#    return n * 123456789"
   ]
  },
  {
   "cell_type": "code",
   "execution_count": 215,
   "id": "e124ac8d",
   "metadata": {},
   "outputs": [],
   "source": [
    "@color_free_cells\n",
    "def show_fields(user, free_cells):\n",
    "    print(' ↓x\\y→', end=' ')\n",
    "    print('1' + ' ' * 3 + '2' + ' ' * 3 + '3')\n",
    "\n",
    "    top_1 = (' ' * 5 + '┌───┬───┬───┐\\n' + '  1  ')\n",
    "    middle_1 = ('│' + ' {} ') * 3\n",
    "    bottom_1 = ('│\\n' + ' ' * 5 + '├───┼───┼───┤\\n' + '  2  ')\n",
    "\n",
    "    middle_2 = ('│' + ' {} ') * 3\n",
    "    bottom_2 = ('│\\n' + ' ' * 5 + '├───┼───┼───┤\\n' + '  3  ')\n",
    "\n",
    "    middle_3 = ('│' + ' {} ') * 3\n",
    "    bottom_3 = ('│\\n' + ' ' * 5 + '└───┴───┴───┘\\n')\n",
    "\n",
    "    lst = [top_1, middle_1, bottom_1, middle_2, bottom_2, middle_3, bottom_3]\n",
    "\n",
    "    gen_row = iter(gen_row_cells(free_cells))  # Генератор 3-х значений из списка [[1,2,3], [4.. ]\n",
    "\n",
    "    for i, s in enumerate(lst):\n",
    "        if i % 2:  # Строки куда необходимо подставить значения из списка free_cells\n",
    "            s = s.format(*next(gen_row))\n",
    "        print(s, end='')\n",
    "\n"
   ]
  },
  {
   "cell_type": "code",
   "execution_count": 77,
   "id": "384d0d39",
   "metadata": {},
   "outputs": [],
   "source": [
    "def users_input(user: str, fr_cell: list):\n",
    "    while True:\n",
    "        cell = 0\n",
    "        place = input(f\"\\tХодит: {user}\\n\\nВведите номер клетки (1-9) или координаты (x y): \").split()\n",
    "        \n",
    "        if not all(i.isdigit() for i in place):\n",
    "            print(\"Не число!\")\n",
    "            continue\n",
    "        \n",
    "        if len(place) == 1:\n",
    "            cell = int(place[0])\n",
    "            if not (0 < cell <= 9):\n",
    "                print(\"Вышли из диапазона (от 1 до 9)\\n\")\n",
    "                continue\n",
    "        elif len(place) == 2:            \n",
    "            x, y = map(int, place)\n",
    "            if not (0 < x <= 3 and 0 < y <= 3):\n",
    "                print(\"Вышли из диапазона координат (от 1 до 3)\\n\")\n",
    "                continue\n",
    "            cell = cell_calculation([x, y])\n",
    "        else:\n",
    "            print(\"Введите одно или два числа\\n\")\n",
    "            continue\n",
    "\n",
    "        if cell not in fr_cell:\n",
    "            print(\"Клетка занята\\n\")\n",
    "            continue\n",
    "        break\n",
    "    return cell"
   ]
  },
  {
   "cell_type": "code",
   "execution_count": 78,
   "id": "b5b9bbc6",
   "metadata": {},
   "outputs": [
    {
     "name": "stdout",
     "output_type": "stream",
     "text": [
      "\tХодит: X\n",
      "\n",
      "Введите номер клетки (1-9) или координаты (x y): 1 2 3\n",
      "Число [True, True, True, False]\n",
      "Введите одно или два числа\n",
      "\n",
      "\tХодит: X\n",
      "\n",
      "Введите номер клетки (1-9) или координаты (x y): q\n",
      "Не число!\n",
      "\tХодит: X\n",
      "\n",
      "Введите номер клетки (1-9) или координаты (x y): q w\n",
      "Не число!\n",
      "\tХодит: X\n",
      "\n",
      "Введите номер клетки (1-9) или координаты (x y): 2 3 3 \n",
      "Число [True, True, True, False]\n",
      "Введите одно или два числа\n",
      "\n",
      "\tХодит: X\n",
      "\n",
      "Введите номер клетки (1-9) или координаты (x y): 1\n",
      "Число [True, True, True, False]\n"
     ]
    }
   ],
   "source": [
    "user, free_cells = \"X\", [1,'O','X',4,'X',6,'O',8,9] \n",
    "cell = users_input(user, free_cells )"
   ]
  },
  {
   "cell_type": "code",
   "execution_count": null,
   "id": "e90fdb46",
   "metadata": {},
   "outputs": [],
   "source": []
  },
  {
   "cell_type": "code",
   "execution_count": 84,
   "id": "44bf3157",
   "metadata": {},
   "outputs": [
    {
     "data": {
      "text/plain": [
       "{2, 4, 7}"
      ]
     },
     "execution_count": 84,
     "metadata": {},
     "output_type": "execute_result"
    }
   ],
   "source": [
    "user, free_cells = \"X\", [1,'O','X',4,'X',6,'O','X',9] \n",
    "x = set([i for i, x in enumerate(free_cells) if x == user])\n",
    "x"
   ]
  },
  {
   "cell_type": "code",
   "execution_count": 85,
   "id": "22ba6bcb",
   "metadata": {},
   "outputs": [],
   "source": [
    "positions = [[0, 1, 2], [3, 4, 5], [6, 7, 8], [0, 3, 6], [1, 4, 7], [2, 5, 8], [0, 4, 8], [2, 4, 6]]"
   ]
  },
  {
   "cell_type": "code",
   "execution_count": 87,
   "id": "f6349340",
   "metadata": {},
   "outputs": [
    {
     "name": "stdout",
     "output_type": "stream",
     "text": [
      "{2}\n",
      "{4}\n",
      "{7}\n",
      "set()\n",
      "{4, 7}\n",
      "{2}\n",
      "{4}\n",
      "{2, 4}\n"
     ]
    }
   ],
   "source": [
    "for p in positions:\n",
    "    print(x.intersection(set(p)))"
   ]
  },
  {
   "cell_type": "code",
   "execution_count": null,
   "id": "917ba1a6",
   "metadata": {},
   "outputs": [],
   "source": []
  },
  {
   "cell_type": "code",
   "execution_count": 91,
   "id": "06d7e720",
   "metadata": {},
   "outputs": [
    {
     "name": "stdout",
     "output_type": "stream",
     "text": [
      "Занята\n"
     ]
    }
   ],
   "source": [
    "fr_cell= [' ', 'O', 'X', ' ', ' ', ' ', ' ', ' ', ' ']\n",
    "cell = 2\n",
    "user = 'X'\n",
    "if fr_cell[cell-1] =='X' or fr_cell[cell-1] =='O':\n",
    "    print('Занята')"
   ]
  },
  {
   "cell_type": "code",
   "execution_count": 94,
   "id": "735fa3b7",
   "metadata": {},
   "outputs": [
    {
     "name": "stdout",
     "output_type": "stream",
     "text": [
      "\n",
      " Показывать номера клеток? (по умолчанию ДА, для изменения введите что угодно).sdasd\n"
     ]
    },
    {
     "data": {
      "text/plain": [
       "False"
      ]
     },
     "execution_count": 94,
     "metadata": {},
     "output_type": "execute_result"
    }
   ],
   "source": [
    "show_cells = input(f\"\\n Показывать номера клеток? (по умолчанию ДА, для изменения введите что угодно).\")\n",
    "show_cells = (False if show_cells else True)\n",
    "show_cells"
   ]
  },
  {
   "cell_type": "code",
   "execution_count": null,
   "id": "50a48015",
   "metadata": {},
   "outputs": [],
   "source": []
  },
  {
   "cell_type": "code",
   "execution_count": 216,
   "id": "54ad3820",
   "metadata": {},
   "outputs": [
    {
     "name": "stdout",
     "output_type": "stream",
     "text": [
      " ↓x\\y→ 1   2   3\n",
      "     ┌───┬───┬───┐\n",
      "  1  │ \u001b[2m\u001b[3m\u001b[37m1\u001b[0m │ \u001b[1m\u001b[36mO\u001b[0m │ \u001b[1m\u001b[34mX\u001b[0m │\n",
      "     ├───┼───┼───┤\n",
      "  2  │ \u001b[2m\u001b[3m\u001b[37m4\u001b[0m │ \u001b[1m\u001b[34mX\u001b[0m │ \u001b[2m\u001b[3m\u001b[37m6\u001b[0m │\n",
      "     ├───┼───┼───┤\n",
      "  3  │ \u001b[1m\u001b[36mO\u001b[0m │ \u001b[2m\u001b[3m\u001b[37m8\u001b[0m │ \u001b[2m\u001b[3m\u001b[37m9\u001b[0m │\n",
      "     └───┴───┴───┘\n"
     ]
    }
   ],
   "source": [
    "user, free_cells = \"7\", [1,'O','X',4,'X',6,'O',8,9] \n",
    "\n",
    "show_fields(user, free_cells)"
   ]
  },
  {
   "cell_type": "code",
   "execution_count": null,
   "id": "51e7c1d1",
   "metadata": {},
   "outputs": [],
   "source": []
  },
  {
   "cell_type": "code",
   "execution_count": null,
   "id": "93e86291",
   "metadata": {},
   "outputs": [],
   "source": [
    "    # if user == 'X':\n",
    "    #     x = f'\\033[1m\\033[34m{user}\\033[0m'\n",
    "    # elif user == 'O':\n",
    "    #     x = f'\\033[1m\\033[36m{user}\\033[0m'\n",
    "    # else:\n",
    "    #     x = '\\u2087'\n",
    "    #     x = 7\n",
    "    #     x = f'\\033[2m\\033[3m\\033[37m{x}\\033[0m'"
   ]
  }
 ],
 "metadata": {
  "kernelspec": {
   "display_name": "Python 3 (ipykernel)",
   "language": "python",
   "name": "python3"
  },
  "language_info": {
   "codemirror_mode": {
    "name": "ipython",
    "version": 3
   },
   "file_extension": ".py",
   "mimetype": "text/x-python",
   "name": "python",
   "nbconvert_exporter": "python",
   "pygments_lexer": "ipython3",
   "version": "3.10.6"
  }
 },
 "nbformat": 4,
 "nbformat_minor": 5
}
