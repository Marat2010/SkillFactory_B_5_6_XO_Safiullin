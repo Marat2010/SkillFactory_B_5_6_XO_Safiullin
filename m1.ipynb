{
 "cells": [
  {
   "cell_type": "markdown",
   "id": "e263adab",
   "metadata": {},
   "source": [
    "### Для тестов\n",
    "Мусор"
   ]
  },
  {
   "cell_type": "code",
   "execution_count": null,
   "id": "eb0d663f",
   "metadata": {},
   "outputs": [],
   "source": [
    "# Начальная\n",
    "\n",
    "def show_fields(f, free_cells):\n",
    "    print(' ↓x\\y→', end=' ')\n",
    "    print('1' + ' ' * 3 + '2' + ' ' * 3 + '3')\n",
    "\n",
    "    if f[0] == 'X':\n",
    "        x = f'\\033[1m\\033[34m{f[0]}\\033[0m'\n",
    "    elif f[0] == 'O':\n",
    "        x = f'\\033[1m\\033[36m{f[0]}\\033[0m'\n",
    "        x = '\\u2087'\n",
    "        x = 7\n",
    "        x = f'\\033[2m\\033[3m\\033[37m{x}\\033[0m'\n",
    "\n",
    "    top_1 = (' ' * 5 + '┌───┬───┬───┐\\n' + '  1  ')\n",
    "    middle_1 = ('│' + f' {x} ') * 3\n",
    "    bottom_1 = ('│\\n' + ' ' * 5 + '├───┼───┼───┤\\n' + '  2  ')\n",
    "\n",
    "    middle_2 = ('│' + f' {x} ') * 3\n",
    "    bottom_2 = ('│\\n' + ' ' * 5 + '├───┼───┼───┤\\n' + '  3  ')\n",
    "\n",
    "    middle_3 = ('│' + f' {x} ') * 3\n",
    "    bottom_3 = ('│\\n' + ' ' * 5 + '└───┴───┴───┘\\n')\n",
    "\n",
    "    lst = [top_1, middle_1, bottom_1, middle_2, bottom_2, middle_3, bottom_3]\n",
    "    for i in lst:\n",
    "        if i == middle_1:\n",
    "            x = 'W'\n",
    "        elif i == middle_2:\n",
    "            x = 'Z'\n",
    "        print(i, end='')\n",
    "    # return True"
   ]
  },
  {
   "cell_type": "code",
   "execution_count": null,
   "id": "13a2f503",
   "metadata": {},
   "outputs": [],
   "source": []
  },
  {
   "cell_type": "code",
   "execution_count": null,
   "id": "7059a023",
   "metadata": {},
   "outputs": [],
   "source": [
    "def "
   ]
  },
  {
   "cell_type": "code",
   "execution_count": 114,
   "id": "cac85409",
   "metadata": {},
   "outputs": [],
   "source": [
    "def show_fields(f, free_cells):\n",
    "    print(' ↓x\\y→', end=' ')\n",
    "    print('1' + ' ' * 3 + '2' + ' ' * 3 + '3')\n",
    "\n",
    "    if f[0] == 'X':\n",
    "        x = f'\\033[1m\\033[34m{f[0]}\\033[0m'\n",
    "    elif f[0] == 'O':\n",
    "        x = f'\\033[1m\\033[36m{f[0]}\\033[0m'\n",
    "    else:\n",
    "        x = '\\u2087'\n",
    "        x = 7\n",
    "        x = f'\\033[2m\\033[3m\\033[37m{x}\\033[0m'\n",
    "\n",
    "    top_1 = (' ' * 5 + '┌───┬───┬───┐\\n' + '  1  ')\n",
    "    middle_1 = ('│' + ' {} ') * 3\n",
    "    bottom_1 = ('│\\n' + ' ' * 5 + '├───┼───┼───┤\\n' + '  2  ')\n",
    "\n",
    "    middle_2 = ('│' + ' {} ') * 3\n",
    "    bottom_2 = ('│\\n' + ' ' * 5 + '├───┼───┼───┤\\n' + '  3  ')\n",
    "\n",
    "    middle_3 = ('│' + ' {} ') * 3\n",
    "    bottom_3 = ('│\\n' + ' ' * 5 + '└───┴───┴───┘\\n')\n",
    "\n",
    "    lst = [top_1, middle_1, bottom_1, middle_2, bottom_2, middle_3, bottom_3]\n",
    "\n",
    "    for i, s in enumerate(lst):\n",
    "        if i % 2:\n",
    "            s = s.format(*free_cells[i-1:i+3])\n",
    "#         if i == middle_1:\n",
    "#             x = 'W'\n",
    "#         elif i == middle_2:\n",
    "#             x = 'Z'\n",
    "#         print(i, end='')\n",
    "        print(s, end='')\n",
    "    # return True"
   ]
  },
  {
   "cell_type": "code",
   "execution_count": 115,
   "id": "c097b6eb",
   "metadata": {},
   "outputs": [
    {
     "name": "stdout",
     "output_type": "stream",
     "text": [
      " ↓x\\y→ 1   2   3\n",
      "     ┌───┬───┬───┐\n",
      "  1  │ 1 │ 2 │ 3 │\n",
      "     ├───┼───┼───┤\n",
      "  2  │ 3 │ 4 │ 5 │\n",
      "     ├───┼───┼───┤\n",
      "  3  │ 5 │ 6 │ 7 │\n",
      "     └───┴───┴───┘\n"
     ]
    }
   ],
   "source": [
    "field = ('O', 5)\n",
    "free_cells = [1,2,3,4,5,6,7,8,9]\n",
    "show_fields(field, free_cells)"
   ]
  },
  {
   "cell_type": "code",
   "execution_count": null,
   "id": "05081f90",
   "metadata": {},
   "outputs": [],
   "source": []
  },
  {
   "cell_type": "code",
   "execution_count": 110,
   "id": "d818f54d",
   "metadata": {},
   "outputs": [
    {
     "name": "stdout",
     "output_type": "stream",
     "text": [
      "['X', 'X', 3, 4, 'O', 6, 'X', 'O', 9]\n",
      "True True [True, True, True, True]\n",
      "5 False\n"
     ]
    }
   ],
   "source": [
    "\n",
    "free_cells = [\"X\",\"X\",3,4,\"O\",6,\"X\",\"O\",9]\n",
    "# free_cells = [\"X\",\"X\",'O','X',\"O\",'O',\"X\",\"O\",9]\n",
    "print(free_cells)\n",
    "# for i in free_cells:\n",
    "#     any(i in range(1,10))\n",
    "res1 = any(i in range(1,10) for i in free_cells)\n",
    "res2 = any(True for i in free_cells if i in range(1,10))\n",
    "res3 = list((True for i in free_cells if i in range(1,10)))\n",
    "print(res1, res2, res3)\n",
    "res4 = free_cells.count('X') + free_cells.count('O')\n",
    "print(res4, res4 == 9)\n",
    "\n",
    "# x = any(True for i, n in enumerate(lst) if n == 100)"
   ]
  },
  {
   "cell_type": "code",
   "execution_count": 104,
   "id": "4e9f8c9d",
   "metadata": {},
   "outputs": [
    {
     "data": {
      "text/plain": [
       "[True, True]"
      ]
     },
     "execution_count": 104,
     "metadata": {},
     "output_type": "execute_result"
    }
   ],
   "source": [
    "free_cells = [\"X\",\"X\",'O','X',\"O\",6 ,\"X\",\"O\",9]\n",
    "list((True for i in free_cells if i in range(1,10)))\n"
   ]
  },
  {
   "cell_type": "code",
   "execution_count": null,
   "id": "4c336606",
   "metadata": {},
   "outputs": [],
   "source": []
  },
  {
   "cell_type": "code",
   "execution_count": 88,
   "id": "f4221b11",
   "metadata": {},
   "outputs": [
    {
     "name": "stdout",
     "output_type": "stream",
     "text": [
      "│ {} │ {} │ {} \n",
      "1 2 3\n",
      "│ 1 │ 2 │ 3 \n",
      "│ 4 │ 5 │ 6 \n",
      "│ 7 │ 8 │ 9 \n"
     ]
    }
   ],
   "source": [
    "x = 'X'\n",
    "field = ('O', 5)\n",
    "free_cell = [1,2,3,4,5,6,7,8,9]\n",
    "\n",
    "middle_1 = ('│' + ' {} ') * 3\n",
    "print(middle_1)\n",
    "print(*free_cell[:3])\n",
    "for i in range(3):\n",
    "    print(middle_1.format(*free_cell[i*3:i*3+3]))\n",
    "#     print(i)"
   ]
  },
  {
   "cell_type": "code",
   "execution_count": 139,
   "id": "eb23f9d4",
   "metadata": {},
   "outputs": [],
   "source": [
    "free_cells = [1,2,3,4,5,6,7,8,9]\n",
    "\n",
    "def gen_row_cells(free_cells):  # генерация ячеек строки\n",
    "    cells = free_cells.copy()\n",
    "    while True:\n",
    "        row = cells[:3]\n",
    "        yield row\n",
    "        \n",
    "        cells = cells[3:]\n",
    "        if not len(cells):\n",
    "            break\n",
    "# for  i in gen_row_cells(free_cell):\n",
    "#     print(i)"
   ]
  },
  {
   "cell_type": "code",
   "execution_count": 141,
   "id": "66b8743a",
   "metadata": {},
   "outputs": [
    {
     "name": "stdout",
     "output_type": "stream",
     "text": [
      "[1, 2, 3]\n",
      "[4, 5, 6]\n"
     ]
    }
   ],
   "source": [
    "gen = iter(gen_row_cells(free_cells))\n",
    "\n",
    "print(next(gen))\n",
    "print(next(gen))"
   ]
  },
  {
   "cell_type": "code",
   "execution_count": 134,
   "id": "86f29563",
   "metadata": {},
   "outputs": [
    {
     "data": {
      "text/plain": [
       "[1, 2, 3]"
      ]
     },
     "execution_count": 134,
     "metadata": {},
     "output_type": "execute_result"
    }
   ],
   "source": []
  },
  {
   "cell_type": "code",
   "execution_count": 121,
   "id": "a22e635e",
   "metadata": {},
   "outputs": [
    {
     "name": "stdout",
     "output_type": "stream",
     "text": [
      "1 2 3 === [4, 5, 6, 7, 8, 9]\n"
     ]
    }
   ],
   "source": [
    "free_cell = [1,2,3,4,5,6,7,8,9]\n",
    "cells = free_cells.copy()\n",
    "row = cells[:3]\n",
    "cells = cells[3:]\n",
    "print(*row, '===', cells)"
   ]
  },
  {
   "cell_type": "code",
   "execution_count": null,
   "id": "17cb0572",
   "metadata": {},
   "outputs": [],
   "source": []
  },
  {
   "cell_type": "code",
   "execution_count": null,
   "id": "e1cdc874",
   "metadata": {},
   "outputs": [],
   "source": []
  },
  {
   "cell_type": "code",
   "execution_count": null,
   "id": "c1f2e3a4",
   "metadata": {},
   "outputs": [],
   "source": []
  },
  {
   "cell_type": "code",
   "execution_count": 142,
   "id": "425f87f0",
   "metadata": {},
   "outputs": [
    {
     "name": "stdout",
     "output_type": "stream",
     "text": [
      " ↓x\\y→ 1   2   3\n",
      "     ┌───┬───┬───┐\n",
      "  1  │ 1 │ 2 │ 3 │\n",
      "     ├───┼───┼───┤\n",
      "  2  │ 3 │ 4 │ 5 │\n",
      "     ├───┼───┼───┤\n",
      "  3  │ 5 │ 6 │ 7 │\n",
      "     └───┴───┴───┘\n"
     ]
    }
   ],
   "source": [
    "field = ('X', 5)\n",
    "free_cell = [1,2,3,4,5,6,7,8,9]\n",
    "show_fields(field, free_cell)"
   ]
  },
  {
   "cell_type": "code",
   "execution_count": null,
   "id": "46297f72",
   "metadata": {},
   "outputs": [],
   "source": []
  },
  {
   "cell_type": "code",
   "execution_count": 76,
   "id": "a655c698",
   "metadata": {},
   "outputs": [
    {
     "name": "stdout",
     "output_type": "stream",
     "text": [
      "\tХодит: X\n",
      "\n",
      "Введите номер клетки 1 2 3 ee\n",
      "['1', '2', '3', 'ee'] === [True, True, True, False] --- False\n"
     ]
    }
   ],
   "source": [
    "\n",
    "while True:\n",
    "    place = input(f\"\\tХодит: X\\n\\nВведите номер клетки \").split()\n",
    "    \n",
    "#     res = list(place.append(False) for i in place if not i.isdigit())\n",
    "#     resany = any(place.append(False) for i in place if not i.isdigit())\n",
    "    res = list(i.isdigit() for i in place)\n",
    "    resany = all(i.isdigit() for i in place)\n",
    "#     for i in place:\n",
    "#         if not  i.isdigit(): \n",
    "#             place.append(False)\n",
    "#         print(\"Введите число\\n\")\n",
    "    print(f\"{place} === {res} --- {resany}\")\n",
    "    break"
   ]
  },
  {
   "cell_type": "code",
   "execution_count": null,
   "id": "124b250f",
   "metadata": {},
   "outputs": [],
   "source": []
  },
  {
   "cell_type": "code",
   "execution_count": null,
   "id": "b9378de7",
   "metadata": {},
   "outputs": [],
   "source": []
  },
  {
   "cell_type": "code",
   "execution_count": null,
   "id": "18cbb3d4",
   "metadata": {},
   "outputs": [],
   "source": []
  },
  {
   "cell_type": "markdown",
   "id": "aaa6bb8f",
   "metadata": {},
   "source": [
    "### Из основной программы"
   ]
  },
  {
   "cell_type": "code",
   "execution_count": 7,
   "id": "7fd5f9da",
   "metadata": {},
   "outputs": [],
   "source": [
    "def gen_row_cells(free_cells):  # генерация 3-x ячеек строки\n",
    "    \"\"\"\n",
    "    Генератор выдачи по три ячейки для игрового поля из основного списка free_cells.\n",
    "    :param free_cells: list.\n",
    "        Основной список ходов игроков. Например: [1,'O','X',4,'X',6,'O','X',9]\n",
    "        или [' ','O','X',' ','X',' ','O','X',' '] если вывод поля, без отображения номеров клеток.\n",
    "    :return yield row: list.\n",
    "        Отдача по (для) одной строки. При первом обращении отдаст:\n",
    "            [1,'O','X'] или [' ','O','X'], потом:\n",
    "            [4,'X',6,] или [' ','X',' '], потом:\n",
    "            ['O','X',9] или ['O','X',' ']\n",
    "    \"\"\"\n",
    "    cells = free_cells.copy()\n",
    "    while True:\n",
    "        row = cells[:3]\n",
    "        yield row\n",
    "        cells = cells[3:]\n",
    "        if not len(cells):\n",
    "            break"
   ]
  },
  {
   "cell_type": "code",
   "execution_count": 8,
   "id": "df60f855",
   "metadata": {},
   "outputs": [
    {
     "data": {
      "text/plain": [
       "\"\\n    Генератор выдачи по три ячейки для игрового поля из основного списка free_cells.\\n    :param free_cells: list.\\n        Основной список ходов игроков. Например: [1,'O','X',4,'X',6,'O','X',9]\\n        или [' ','O','X',' ','X',' ','O','X',' '] если вывод поля, без отображения номеров клеток.\\n    :return yield row: list.\\n        Отдача по (для) одной строки. При первом обращении отдаст:\\n            [1,'O','X'] или [' ','O','X'], потом:\\n            [4,'X',6,] или [' ','X',' '], потом:\\n            ['O','X',9] или ['O','X',' ']\\n    \""
      ]
     },
     "execution_count": 8,
     "metadata": {},
     "output_type": "execute_result"
    }
   ],
   "source": [
    "gen_row_cells.__doc__"
   ]
  },
  {
   "cell_type": "code",
   "execution_count": 214,
   "id": "32b52e5d",
   "metadata": {},
   "outputs": [],
   "source": [
    "def color_free_cells(func):\n",
    "    def wrapeper(*args, **kwargs):\n",
    "        cells = args[1]\n",
    "        new_cells = []\n",
    "        for i in cells:\n",
    "            if i  == 'X': \n",
    "                i = f'\\033[1m\\033[34m{i}\\033[0m'\n",
    "            elif i == 'O':\n",
    "                i = f'\\033[1m\\033[36m{i}\\033[0m'\n",
    "            else:\n",
    "                i = f'\\033[2m\\033[3m\\033[37m{i}\\033[0m'\n",
    "            new_cells.append(i) \n",
    "            \n",
    "        args = args[0], new_cells\n",
    "\n",
    "        return func(*args, **kwargs)\n",
    "    return wrapeper\n",
    "\n",
    "#         print(f'Начало args_user={args[0]}. args_cell: {args[1]}')\n",
    "#             func(*args, **kwargs)          \n",
    "#             print(f'Посчитали и добавили в словарь: {d}') \n",
    "# @color_free_cells\n",
    "# def show_fields(user, free_cells):\n",
    "#    return n * 123456789"
   ]
  },
  {
   "cell_type": "code",
   "execution_count": 215,
   "id": "e124ac8d",
   "metadata": {},
   "outputs": [],
   "source": [
    "@color_free_cells\n",
    "def show_fields(user, free_cells):\n",
    "    print(' ↓x\\y→', end=' ')\n",
    "    print('1' + ' ' * 3 + '2' + ' ' * 3 + '3')\n",
    "\n",
    "    top_1 = (' ' * 5 + '┌───┬───┬───┐\\n' + '  1  ')\n",
    "    middle_1 = ('│' + ' {} ') * 3\n",
    "    bottom_1 = ('│\\n' + ' ' * 5 + '├───┼───┼───┤\\n' + '  2  ')\n",
    "\n",
    "    middle_2 = ('│' + ' {} ') * 3\n",
    "    bottom_2 = ('│\\n' + ' ' * 5 + '├───┼───┼───┤\\n' + '  3  ')\n",
    "\n",
    "    middle_3 = ('│' + ' {} ') * 3\n",
    "    bottom_3 = ('│\\n' + ' ' * 5 + '└───┴───┴───┘\\n')\n",
    "\n",
    "    lst = [top_1, middle_1, bottom_1, middle_2, bottom_2, middle_3, bottom_3]\n",
    "\n",
    "    gen_row = iter(gen_row_cells(free_cells))  # Генератор 3-х значений из списка [[1,2,3], [4.. ]\n",
    "\n",
    "    for i, s in enumerate(lst):\n",
    "        if i % 2:  # Строки куда необходимо подставить значения из списка free_cells\n",
    "            s = s.format(*next(gen_row))\n",
    "        print(s, end='')\n",
    "\n"
   ]
  },
  {
   "cell_type": "code",
   "execution_count": 77,
   "id": "384d0d39",
   "metadata": {},
   "outputs": [],
   "source": [
    "def users_input(user: str, fr_cell: list):\n",
    "    while True:\n",
    "        cell = 0\n",
    "        place = input(f\"\\tХодит: {user}\\n\\nВведите номер клетки (1-9) или координаты (x y): \").split()\n",
    "        \n",
    "        if not all(i.isdigit() for i in place):\n",
    "            print(\"Не число!\")\n",
    "            continue\n",
    "        \n",
    "        if len(place) == 1:\n",
    "            cell = int(place[0])\n",
    "            if not (0 < cell <= 9):\n",
    "                print(\"Вышли из диапазона (от 1 до 9)\\n\")\n",
    "                continue\n",
    "        elif len(place) == 2:            \n",
    "            x, y = map(int, place)\n",
    "            if not (0 < x <= 3 and 0 < y <= 3):\n",
    "                print(\"Вышли из диапазона координат (от 1 до 3)\\n\")\n",
    "                continue\n",
    "            cell = cell_calculation([x, y])\n",
    "        else:\n",
    "            print(\"Введите одно или два числа\\n\")\n",
    "            continue\n",
    "\n",
    "        if cell not in fr_cell:\n",
    "            print(\"Клетка занята\\n\")\n",
    "            continue\n",
    "        break\n",
    "    return cell"
   ]
  },
  {
   "cell_type": "code",
   "execution_count": 78,
   "id": "b5b9bbc6",
   "metadata": {},
   "outputs": [
    {
     "name": "stdout",
     "output_type": "stream",
     "text": [
      "\tХодит: X\n",
      "\n",
      "Введите номер клетки (1-9) или координаты (x y): 1 2 3\n",
      "Число [True, True, True, False]\n",
      "Введите одно или два числа\n",
      "\n",
      "\tХодит: X\n",
      "\n",
      "Введите номер клетки (1-9) или координаты (x y): q\n",
      "Не число!\n",
      "\tХодит: X\n",
      "\n",
      "Введите номер клетки (1-9) или координаты (x y): q w\n",
      "Не число!\n",
      "\tХодит: X\n",
      "\n",
      "Введите номер клетки (1-9) или координаты (x y): 2 3 3 \n",
      "Число [True, True, True, False]\n",
      "Введите одно или два числа\n",
      "\n",
      "\tХодит: X\n",
      "\n",
      "Введите номер клетки (1-9) или координаты (x y): 1\n",
      "Число [True, True, True, False]\n"
     ]
    }
   ],
   "source": [
    "user, free_cells = \"X\", [1,'O','X',4,'X',6,'O',8,9] \n",
    "cell = users_input(user, free_cells )"
   ]
  },
  {
   "cell_type": "code",
   "execution_count": null,
   "id": "e90fdb46",
   "metadata": {},
   "outputs": [],
   "source": []
  },
  {
   "cell_type": "code",
   "execution_count": 84,
   "id": "44bf3157",
   "metadata": {},
   "outputs": [
    {
     "data": {
      "text/plain": [
       "{2, 4, 7}"
      ]
     },
     "execution_count": 84,
     "metadata": {},
     "output_type": "execute_result"
    }
   ],
   "source": [
    "user, free_cells = \"X\", [1,'O','X',4,'X',6,'O','X',9] \n",
    "x = set([i for i, x in enumerate(free_cells) if x == user])\n",
    "x"
   ]
  },
  {
   "cell_type": "code",
   "execution_count": 85,
   "id": "22ba6bcb",
   "metadata": {},
   "outputs": [],
   "source": [
    "positions = [[0, 1, 2], [3, 4, 5], [6, 7, 8], [0, 3, 6], [1, 4, 7], [2, 5, 8], [0, 4, 8], [2, 4, 6]]"
   ]
  },
  {
   "cell_type": "code",
   "execution_count": 87,
   "id": "f6349340",
   "metadata": {},
   "outputs": [
    {
     "name": "stdout",
     "output_type": "stream",
     "text": [
      "{2}\n",
      "{4}\n",
      "{7}\n",
      "set()\n",
      "{4, 7}\n",
      "{2}\n",
      "{4}\n",
      "{2, 4}\n"
     ]
    }
   ],
   "source": [
    "for p in positions:\n",
    "    print(x.intersection(set(p)))"
   ]
  },
  {
   "cell_type": "code",
   "execution_count": null,
   "id": "917ba1a6",
   "metadata": {},
   "outputs": [],
   "source": []
  },
  {
   "cell_type": "code",
   "execution_count": 91,
   "id": "06d7e720",
   "metadata": {},
   "outputs": [
    {
     "name": "stdout",
     "output_type": "stream",
     "text": [
      "Занята\n"
     ]
    }
   ],
   "source": [
    "fr_cell= [' ', 'O', 'X', ' ', ' ', ' ', ' ', ' ', ' ']\n",
    "cell = 2\n",
    "user = 'X'\n",
    "if fr_cell[cell-1] =='X' or fr_cell[cell-1] =='O':\n",
    "    print('Занята')"
   ]
  },
  {
   "cell_type": "code",
   "execution_count": 94,
   "id": "735fa3b7",
   "metadata": {},
   "outputs": [
    {
     "name": "stdout",
     "output_type": "stream",
     "text": [
      "\n",
      " Показывать номера клеток? (по умолчанию ДА, для изменения введите что угодно).sdasd\n"
     ]
    },
    {
     "data": {
      "text/plain": [
       "False"
      ]
     },
     "execution_count": 94,
     "metadata": {},
     "output_type": "execute_result"
    }
   ],
   "source": [
    "show_cells = input(f\"\\n Показывать номера клеток? (по умолчанию ДА, для изменения введите что угодно).\")\n",
    "show_cells = (False if show_cells else True)\n",
    "show_cells"
   ]
  },
  {
   "cell_type": "code",
   "execution_count": null,
   "id": "50a48015",
   "metadata": {},
   "outputs": [],
   "source": []
  },
  {
   "cell_type": "code",
   "execution_count": 216,
   "id": "54ad3820",
   "metadata": {},
   "outputs": [
    {
     "name": "stdout",
     "output_type": "stream",
     "text": [
      " ↓x\\y→ 1   2   3\n",
      "     ┌───┬───┬───┐\n",
      "  1  │ \u001B[2m\u001B[3m\u001B[37m1\u001B[0m │ \u001B[1m\u001B[36mO\u001B[0m │ \u001B[1m\u001B[34mX\u001B[0m │\n",
      "     ├───┼───┼───┤\n",
      "  2  │ \u001B[2m\u001B[3m\u001B[37m4\u001B[0m │ \u001B[1m\u001B[34mX\u001B[0m │ \u001B[2m\u001B[3m\u001B[37m6\u001B[0m │\n",
      "     ├───┼───┼───┤\n",
      "  3  │ \u001B[1m\u001B[36mO\u001B[0m │ \u001B[2m\u001B[3m\u001B[37m8\u001B[0m │ \u001B[2m\u001B[3m\u001B[37m9\u001B[0m │\n",
      "     └───┴───┴───┘\n"
     ]
    }
   ],
   "source": [
    "user, free_cells = \"7\", [1,'O','X',4,'X',6,'O',8,9] \n",
    "\n",
    "show_fields(user, free_cells)"
   ]
  },
  {
   "cell_type": "code",
   "execution_count": null,
   "id": "51e7c1d1",
   "metadata": {},
   "outputs": [],
   "source": []
  },
  {
   "cell_type": "code",
   "execution_count": null,
   "id": "93e86291",
   "metadata": {},
   "outputs": [],
   "source": [
    "    # if user == 'X':\n",
    "    #     x = f'\\033[1m\\033[34m{user}\\033[0m'\n",
    "    # elif user == 'O':\n",
    "    #     x = f'\\033[1m\\033[36m{user}\\033[0m'\n",
    "    # else:\n",
    "    #     x = '\\u2087'\n",
    "    #     x = 7\n",
    "    #     x = f'\\033[2m\\033[3m\\033[37m{x}\\033[0m'"
   ]
  },
  {
   "cell_type": "code",
   "execution_count": null,
   "id": "05e395c9",
   "metadata": {},
   "outputs": [],
   "source": []
  },
  {
   "cell_type": "code",
   "execution_count": null,
   "id": "db403b51",
   "metadata": {},
   "outputs": [],
   "source": []
  },
  {
   "cell_type": "code",
   "execution_count": null,
   "id": "d41d1bf0",
   "metadata": {},
   "outputs": [],
   "source": []
  },
  {
   "cell_type": "code",
   "execution_count": null,
   "id": "68aaf07d",
   "metadata": {},
   "outputs": [],
   "source": []
  },
  {
   "cell_type": "markdown",
   "id": "3dcf398d",
   "metadata": {},
   "source": [
    "### Декораторы с аргументами."
   ]
  },
  {
   "cell_type": "markdown",
   "id": "2a581d31",
   "metadata": {},
   "source": [
    "Иногда бывает нужно передать аргументы декораторам. В шаблоне декоратора общего назначения, имя написанное после символа @, относится к объекту функции, который может быть вызван другой функцией.\n",
    "Чтобы получить декоратор, в который можно передать аргументы, нужно из функции с параметрами вернуть функциональный объект, который может действовать как декоратор.\n"
   ]
  },
  {
   "cell_type": "code",
   "execution_count": 1,
   "id": "b840a9c2",
   "metadata": {},
   "outputs": [],
   "source": [
    "import functools\n",
    "\n",
    "def repeater(repeat=1):\n",
    "    \"\"\"Повторение выполнения кода\"\"\"\n",
    "    def decorator(func):\n",
    "        @functools.wraps(func)\n",
    "        def wrapper(*args, **kwargs):\n",
    "            for i in range(repeat):\n",
    "                print(f'{i+1}: ', end='')\n",
    "                val = func(*args, **kwargs)\n",
    "            return val\n",
    "        return wrapper\n",
    "    return decorator"
   ]
  },
  {
   "cell_type": "code",
   "execution_count": 4,
   "id": "f9530d5c",
   "metadata": {},
   "outputs": [
    {
     "name": "stdout",
     "output_type": "stream",
     "text": [
      "1: Hello Андрей!\n",
      "2: Hello Андрей!\n",
      "3: Hello Андрей!\n"
     ]
    }
   ],
   "source": [
    "@repeater(repeat=3)\n",
    "def say(name):\n",
    "    print (f'Hello {name}!')\n",
    "\n",
    "say('Андрей')"
   ]
  },
  {
   "cell_type": "code",
   "execution_count": null,
   "id": "5af8fe4b",
   "metadata": {},
   "outputs": [],
   "source": []
  },
  {
   "cell_type": "markdown",
   "id": "12531d7c",
   "metadata": {},
   "source": [
    "Следующий пример будет создавать требуемую задержку выполнения кода. Такое поведение иногда требуется для мониторинга доступности какого нибудь ресурса. Декоратор назовем delayed."
   ]
  },
  {
   "cell_type": "code",
   "execution_count": 1,
   "id": "2f0ec52b",
   "metadata": {},
   "outputs": [
    {
     "name": "stdout",
     "output_type": "stream",
     "text": [
      "Спим 2.5 сек.\n",
      "3\n",
      "Спим 2.5 сек.\n",
      "2\n",
      "Спим 2.5 сек.\n"
     ]
    },
    {
     "ename": "KeyboardInterrupt",
     "evalue": "",
     "output_type": "error",
     "traceback": [
      "\u001B[0;31m---------------------------------------------------------------------------\u001B[0m",
      "\u001B[0;31mKeyboardInterrupt\u001B[0m                         Traceback (most recent call last)",
      "Cell \u001B[0;32mIn [1], line 25\u001B[0m\n\u001B[1;32m     22\u001B[0m         \u001B[38;5;28mprint\u001B[39m(int_num)\n\u001B[1;32m     23\u001B[0m     countdown(int_num \u001B[38;5;241m-\u001B[39m \u001B[38;5;241m1\u001B[39m)    \n\u001B[0;32m---> 25\u001B[0m \u001B[43mcountdown\u001B[49m\u001B[43m(\u001B[49m\u001B[38;5;241;43m3\u001B[39;49m\u001B[43m)\u001B[49m\n",
      "Cell \u001B[0;32mIn [1], line 11\u001B[0m, in \u001B[0;36mdelayed.<locals>.decorator.<locals>.wrapper\u001B[0;34m(*args, **kwargs)\u001B[0m\n\u001B[1;32m      9\u001B[0m \u001B[38;5;28mprint\u001B[39m(\u001B[38;5;124mf\u001B[39m\u001B[38;5;124m'\u001B[39m\u001B[38;5;124mСпим \u001B[39m\u001B[38;5;132;01m{\u001B[39;00mdelay\u001B[38;5;132;01m}\u001B[39;00m\u001B[38;5;124m сек.\u001B[39m\u001B[38;5;124m'\u001B[39m)\n\u001B[1;32m     10\u001B[0m time\u001B[38;5;241m.\u001B[39msleep(delay)\n\u001B[0;32m---> 11\u001B[0m val \u001B[38;5;241m=\u001B[39m \u001B[43mfunc\u001B[49m\u001B[43m(\u001B[49m\u001B[38;5;241;43m*\u001B[39;49m\u001B[43margs\u001B[49m\u001B[43m,\u001B[49m\u001B[43m \u001B[49m\u001B[38;5;241;43m*\u001B[39;49m\u001B[38;5;241;43m*\u001B[39;49m\u001B[43mkwargs\u001B[49m\u001B[43m)\u001B[49m\n\u001B[1;32m     12\u001B[0m \u001B[38;5;28;01mreturn\u001B[39;00m val\n",
      "Cell \u001B[0;32mIn [1], line 23\u001B[0m, in \u001B[0;36mcountdown\u001B[0;34m(int_num)\u001B[0m\n\u001B[1;32m     21\u001B[0m \u001B[38;5;28;01melse\u001B[39;00m:\n\u001B[1;32m     22\u001B[0m     \u001B[38;5;28mprint\u001B[39m(int_num)\n\u001B[0;32m---> 23\u001B[0m \u001B[43mcountdown\u001B[49m\u001B[43m(\u001B[49m\u001B[43mint_num\u001B[49m\u001B[43m \u001B[49m\u001B[38;5;241;43m-\u001B[39;49m\u001B[43m \u001B[49m\u001B[38;5;241;43m1\u001B[39;49m\u001B[43m)\u001B[49m\n",
      "Cell \u001B[0;32mIn [1], line 11\u001B[0m, in \u001B[0;36mdelayed.<locals>.decorator.<locals>.wrapper\u001B[0;34m(*args, **kwargs)\u001B[0m\n\u001B[1;32m      9\u001B[0m \u001B[38;5;28mprint\u001B[39m(\u001B[38;5;124mf\u001B[39m\u001B[38;5;124m'\u001B[39m\u001B[38;5;124mСпим \u001B[39m\u001B[38;5;132;01m{\u001B[39;00mdelay\u001B[38;5;132;01m}\u001B[39;00m\u001B[38;5;124m сек.\u001B[39m\u001B[38;5;124m'\u001B[39m)\n\u001B[1;32m     10\u001B[0m time\u001B[38;5;241m.\u001B[39msleep(delay)\n\u001B[0;32m---> 11\u001B[0m val \u001B[38;5;241m=\u001B[39m \u001B[43mfunc\u001B[49m\u001B[43m(\u001B[49m\u001B[38;5;241;43m*\u001B[39;49m\u001B[43margs\u001B[49m\u001B[43m,\u001B[49m\u001B[43m \u001B[49m\u001B[38;5;241;43m*\u001B[39;49m\u001B[38;5;241;43m*\u001B[39;49m\u001B[43mkwargs\u001B[49m\u001B[43m)\u001B[49m\n\u001B[1;32m     12\u001B[0m \u001B[38;5;28;01mreturn\u001B[39;00m val\n",
      "Cell \u001B[0;32mIn [1], line 23\u001B[0m, in \u001B[0;36mcountdown\u001B[0;34m(int_num)\u001B[0m\n\u001B[1;32m     21\u001B[0m \u001B[38;5;28;01melse\u001B[39;00m:\n\u001B[1;32m     22\u001B[0m     \u001B[38;5;28mprint\u001B[39m(int_num)\n\u001B[0;32m---> 23\u001B[0m \u001B[43mcountdown\u001B[49m\u001B[43m(\u001B[49m\u001B[43mint_num\u001B[49m\u001B[43m \u001B[49m\u001B[38;5;241;43m-\u001B[39;49m\u001B[43m \u001B[49m\u001B[38;5;241;43m1\u001B[39;49m\u001B[43m)\u001B[49m\n",
      "Cell \u001B[0;32mIn [1], line 10\u001B[0m, in \u001B[0;36mdelayed.<locals>.decorator.<locals>.wrapper\u001B[0;34m(*args, **kwargs)\u001B[0m\n\u001B[1;32m      7\u001B[0m \u001B[38;5;129m@functools\u001B[39m\u001B[38;5;241m.\u001B[39mwraps(func)\n\u001B[1;32m      8\u001B[0m \u001B[38;5;28;01mdef\u001B[39;00m \u001B[38;5;21mwrapper\u001B[39m(\u001B[38;5;241m*\u001B[39margs, \u001B[38;5;241m*\u001B[39m\u001B[38;5;241m*\u001B[39mkwargs):\n\u001B[1;32m      9\u001B[0m     \u001B[38;5;28mprint\u001B[39m(\u001B[38;5;124mf\u001B[39m\u001B[38;5;124m'\u001B[39m\u001B[38;5;124mСпим \u001B[39m\u001B[38;5;132;01m{\u001B[39;00mdelay\u001B[38;5;132;01m}\u001B[39;00m\u001B[38;5;124m сек.\u001B[39m\u001B[38;5;124m'\u001B[39m)\n\u001B[0;32m---> 10\u001B[0m     \u001B[43mtime\u001B[49m\u001B[38;5;241;43m.\u001B[39;49m\u001B[43msleep\u001B[49m\u001B[43m(\u001B[49m\u001B[43mdelay\u001B[49m\u001B[43m)\u001B[49m\n\u001B[1;32m     11\u001B[0m     val \u001B[38;5;241m=\u001B[39m func(\u001B[38;5;241m*\u001B[39margs, \u001B[38;5;241m*\u001B[39m\u001B[38;5;241m*\u001B[39mkwargs)\n\u001B[1;32m     12\u001B[0m     \u001B[38;5;28;01mreturn\u001B[39;00m val\n",
      "\u001B[0;31mKeyboardInterrupt\u001B[0m: "
     ]
    }
   ],
   "source": [
    "import functools\n",
    "import time\n",
    "\n",
    "def delayed(delay=1):\n",
    "    \"\"\"Задержка перед вызовом функции\"\"\"\n",
    "    def decorator(func):\n",
    "        @functools.wraps(func)\n",
    "        def wrapper(*args, **kwargs):\n",
    "            print(f'Спим {delay} сек.')\n",
    "            time.sleep(delay)\n",
    "            val = func(*args, **kwargs)\n",
    "            return val\n",
    "        return wrapper\n",
    "    return decorator\n",
    "\n",
    "# @delayed(delay=0.5)\n",
    "@delayed(delay=2.5)\n",
    "def countdown(int_num):\n",
    "    if int_num < 1:\n",
    "        exit(0)\n",
    "    else:\n",
    "        print(int_num)\n",
    "    countdown(int_num - 1)    \n",
    "        \n",
    "countdown(3)"
   ]
  },
  {
   "cell_type": "code",
   "execution_count": null,
   "id": "bf752f1f",
   "metadata": {},
   "outputs": [],
   "source": []
  },
  {
   "cell_type": "markdown",
   "id": "21de285e",
   "metadata": {},
   "source": [
    "Декоратор с аргументами в виде класса.\n",
    "Выше, описывался способ написания декоратора с аргументами, при составлении которого можно запутаться. Так и было принято писать такие декораторы, пока кто-то не наткнулся на возможность использования классов в виде декораторов. Изучая эту возможность, придумал передавать методу __init__ аргументы декоратора, а метод __call__ использовать, как декоратор общего назначения (декоратор без аргументов). В общем, как говориться, все гениальное просто...\n",
    "По сути, необходимо просто разделить этапы создания декоратора, принимающего аргументы:\n",
    "\n",
    "    Запомнить переданные в декоратор аргументы;\n",
    "    Создать вызываемый декоратор общего назначения и используя область видимости, манипулировать переданными аргументами.\n",
    "\n",
    "То есть сделать то, что делают классы в Python, следовательно можно не париться с двумя вложенными функциями.\n",
    "Перепишем декоратор @delayed() с использованием класса:"
   ]
  },
  {
   "cell_type": "code",
   "execution_count": 2,
   "id": "d8d71cc3",
   "metadata": {},
   "outputs": [
    {
     "name": "stdout",
     "output_type": "stream",
     "text": [
      "Спим 2.5 сек.\n",
      "3\n",
      "Спим 2.5 сек.\n"
     ]
    },
    {
     "ename": "KeyboardInterrupt",
     "evalue": "",
     "output_type": "error",
     "traceback": [
      "\u001B[0;31m---------------------------------------------------------------------------\u001B[0m",
      "\u001B[0;31mKeyboardInterrupt\u001B[0m                         Traceback (most recent call last)",
      "Cell \u001B[0;32mIn [2], line 27\u001B[0m\n\u001B[1;32m     24\u001B[0m         \u001B[38;5;28mprint\u001B[39m(int_num)\n\u001B[1;32m     25\u001B[0m     countdown(int_num \u001B[38;5;241m-\u001B[39m \u001B[38;5;241m1\u001B[39m)    \n\u001B[0;32m---> 27\u001B[0m \u001B[43mcountdown\u001B[49m\u001B[43m(\u001B[49m\u001B[38;5;241;43m3\u001B[39;49m\u001B[43m)\u001B[49m \n",
      "Cell \u001B[0;32mIn [2], line 15\u001B[0m, in \u001B[0;36mDelayed.__call__.<locals>.wrapper\u001B[0;34m(*args, **kwargs)\u001B[0m\n\u001B[1;32m     13\u001B[0m \u001B[38;5;28mprint\u001B[39m(\u001B[38;5;124mf\u001B[39m\u001B[38;5;124m'\u001B[39m\u001B[38;5;124mСпим \u001B[39m\u001B[38;5;132;01m{\u001B[39;00m\u001B[38;5;28mself\u001B[39m\u001B[38;5;241m.\u001B[39m_delay\u001B[38;5;132;01m}\u001B[39;00m\u001B[38;5;124m сек.\u001B[39m\u001B[38;5;124m'\u001B[39m)\n\u001B[1;32m     14\u001B[0m sleep(\u001B[38;5;28mself\u001B[39m\u001B[38;5;241m.\u001B[39m_delay)\n\u001B[0;32m---> 15\u001B[0m val \u001B[38;5;241m=\u001B[39m \u001B[43mfunc\u001B[49m\u001B[43m(\u001B[49m\u001B[38;5;241;43m*\u001B[39;49m\u001B[43margs\u001B[49m\u001B[43m,\u001B[49m\u001B[43m \u001B[49m\u001B[38;5;241;43m*\u001B[39;49m\u001B[38;5;241;43m*\u001B[39;49m\u001B[43mkwargs\u001B[49m\u001B[43m)\u001B[49m\n\u001B[1;32m     16\u001B[0m \u001B[38;5;28;01mreturn\u001B[39;00m val\n",
      "Cell \u001B[0;32mIn [2], line 25\u001B[0m, in \u001B[0;36mcountdown\u001B[0;34m(int_num)\u001B[0m\n\u001B[1;32m     23\u001B[0m \u001B[38;5;28;01melse\u001B[39;00m:\n\u001B[1;32m     24\u001B[0m     \u001B[38;5;28mprint\u001B[39m(int_num)\n\u001B[0;32m---> 25\u001B[0m \u001B[43mcountdown\u001B[49m\u001B[43m(\u001B[49m\u001B[43mint_num\u001B[49m\u001B[43m \u001B[49m\u001B[38;5;241;43m-\u001B[39;49m\u001B[43m \u001B[49m\u001B[38;5;241;43m1\u001B[39;49m\u001B[43m)\u001B[49m\n",
      "Cell \u001B[0;32mIn [2], line 14\u001B[0m, in \u001B[0;36mDelayed.__call__.<locals>.wrapper\u001B[0;34m(*args, **kwargs)\u001B[0m\n\u001B[1;32m     11\u001B[0m \u001B[38;5;129m@wraps\u001B[39m(func)\n\u001B[1;32m     12\u001B[0m \u001B[38;5;28;01mdef\u001B[39;00m \u001B[38;5;21mwrapper\u001B[39m(\u001B[38;5;241m*\u001B[39margs, \u001B[38;5;241m*\u001B[39m\u001B[38;5;241m*\u001B[39mkwargs):\n\u001B[1;32m     13\u001B[0m     \u001B[38;5;28mprint\u001B[39m(\u001B[38;5;124mf\u001B[39m\u001B[38;5;124m'\u001B[39m\u001B[38;5;124mСпим \u001B[39m\u001B[38;5;132;01m{\u001B[39;00m\u001B[38;5;28mself\u001B[39m\u001B[38;5;241m.\u001B[39m_delay\u001B[38;5;132;01m}\u001B[39;00m\u001B[38;5;124m сек.\u001B[39m\u001B[38;5;124m'\u001B[39m)\n\u001B[0;32m---> 14\u001B[0m     \u001B[43msleep\u001B[49m\u001B[43m(\u001B[49m\u001B[38;5;28;43mself\u001B[39;49m\u001B[38;5;241;43m.\u001B[39;49m\u001B[43m_delay\u001B[49m\u001B[43m)\u001B[49m\n\u001B[1;32m     15\u001B[0m     val \u001B[38;5;241m=\u001B[39m func(\u001B[38;5;241m*\u001B[39margs, \u001B[38;5;241m*\u001B[39m\u001B[38;5;241m*\u001B[39mkwargs)\n\u001B[1;32m     16\u001B[0m     \u001B[38;5;28;01mreturn\u001B[39;00m val\n",
      "\u001B[0;31mKeyboardInterrupt\u001B[0m: "
     ]
    }
   ],
   "source": [
    "from functools import wraps\n",
    "from time import sleep\n",
    "\n",
    "class Delayed:\n",
    "    # запоминаем аргументы декоратора\n",
    "    def __init__(self, delay=1):\n",
    "        self._delay = delay\n",
    "\n",
    "    # декоратор общего назначения\n",
    "    def __call__(self, func):\n",
    "        @wraps(func)\n",
    "        def wrapper(*args, **kwargs):\n",
    "            print(f'Спим {self._delay} сек.')\n",
    "            sleep(self._delay)\n",
    "            val = func(*args, **kwargs)\n",
    "            return val\n",
    "        return wrapper\n",
    "\n",
    "@Delayed(delay=2.5)\n",
    "def countdown(int_num):\n",
    "    if int_num < 1:\n",
    "        exit(0)\n",
    "    else:\n",
    "        print(int_num)\n",
    "    countdown(int_num - 1)    \n",
    "        \n",
    "countdown(3) \n",
    "\n",
    "# Этот код гораздо лучше читается чем декоратор с двумя\n",
    "# вложенными функциями. \n",
    "# Осталось только смириться с именем декоратора,\n",
    "# начинающимся с большой буквы или с именем класса,\n",
    "# начинающимся с маленькой."
   ]
  },
  {
   "cell_type": "code",
   "execution_count": null,
   "id": "917214c5",
   "metadata": {},
   "outputs": [],
   "source": []
  },
  {
   "cell_type": "code",
   "execution_count": null,
   "id": "6865b1bc",
   "metadata": {},
   "outputs": [],
   "source": []
  },
  {
   "cell_type": "code",
   "execution_count": null,
   "id": "683ad80a",
   "metadata": {},
   "outputs": [],
   "source": []
  }
 ],
 "metadata": {
  "kernelspec": {
   "display_name": "Python 3 (ipykernel)",
   "language": "python",
   "name": "python3"
  },
  "language_info": {
   "codemirror_mode": {
    "name": "ipython",
    "version": 3
   },
   "file_extension": ".py",
   "mimetype": "text/x-python",
   "name": "python",
   "nbconvert_exporter": "python",
   "pygments_lexer": "ipython3",
   "version": "3.10.6"
  }
 },
 "nbformat": 4,
 "nbformat_minor": 5
}
